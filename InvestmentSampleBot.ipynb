{
 "cells": [
  {
   "cell_type": "markdown",
   "metadata": {},
   "source": [
    "# Чат бот инвестиций"
   ]
  },
  {
   "cell_type": "markdown",
   "metadata": {},
   "source": [
    "### Проект выполнили:\n",
    "* Николай Обливальный\n",
    "* Name\n",
    "* Алексей Бевз"
   ]
  },
  {
   "cell_type": "markdown",
   "metadata": {},
   "source": [
    "#### Установка библиотеки для работы с ботом через API телеграмма"
   ]
  },
  {
   "cell_type": "code",
   "execution_count": null,
   "metadata": {},
   "outputs": [],
   "source": [
    "#pip install pyTelegramBotAPI"
   ]
  },
  {
   "cell_type": "markdown",
   "metadata": {},
   "source": [
    "Телеграмм умеет сообщать боту о действиях пользователя двумя способами: через ответ на запрос сервера (Long Poll), и через Webhook, когда сервер Телеграмма сам присылает сообщение о том, что кто-то написал боту. Второй способ явно выглядит лучше, но требует выделенного IP-адреса, и установленного SSL на сервере. Реализовать его наиболее простым способом можно опубликовав код на heroku."
   ]
  },
  {
   "cell_type": "markdown",
   "metadata": {},
   "source": [
    "В данном проекте используется Long Poll."
   ]
  },
  {
   "cell_type": "markdown",
   "metadata": {},
   "source": [
    "С помощью специального бота \"BotFather\" создали собственного бота и получили токен для работы с API.<br/>\n",
    "UserName: InvestmentSampleBot\n",
    "Название: Чат бот инвестиций"
   ]
  },
  {
   "cell_type": "code",
   "execution_count": 2,
   "metadata": {},
   "outputs": [],
   "source": [
    "import telebot;\n",
    "from telebot import types"
   ]
  },
  {
   "cell_type": "code",
   "execution_count": 3,
   "metadata": {},
   "outputs": [],
   "source": [
    "token = ''"
   ]
  },
  {
   "cell_type": "code",
   "execution_count": 4,
   "metadata": {},
   "outputs": [],
   "source": [
    "bot = telebot.TeleBot(token);"
   ]
  },
  {
   "cell_type": "markdown",
   "metadata": {},
   "source": [
    "#### Домен"
   ]
  },
  {
   "cell_type": "code",
   "execution_count": 5,
   "metadata": {},
   "outputs": [],
   "source": [
    "class InputParms():\n",
    "    start_strategy = ''\n",
    "    end_strategy = ''\n",
    "    period_calculation = ''\n",
    "    period_holding = ''\n",
    "    \n",
    "    def set_start_strategy(self, start_strategy):\n",
    "        self.start_strategy = start_strategy\n",
    "        \n",
    "    def set_end_strategy(self, end_strategy):\n",
    "        self.end_strategy = end_strategy\n",
    "        \n",
    "    def set_period_calculation(self, period_calculation):\n",
    "        self.period_calculation = period_calculation\n",
    "        \n",
    "    def set_period_holding(self, period_holding):\n",
    "        self.period_holding = period_holding\n",
    "        \n",
    "    def get_log(self):\n",
    "        print(f'дата начала проверки стратегии: {self.start_strategy}')\n",
    "        print(f'дата окончания проверки стратегии: {self.end_strategy}')\n",
    "        print(f'период данных для расчета: {self.period_calculation}')\n",
    "        print(f'период данных для удержания позиции: {self.period_holding}')\n",
    "        \n",
    "    def get_string(self):\n",
    "        parms = []\n",
    "        parms.append('Текущие значения параметров:')\n",
    "        parms.append(f'дата начала проверки стратегии: {self.start_strategy}')\n",
    "        parms.append(f'дата окончания проверки стратегии: {self.end_strategy}')\n",
    "        parms.append(f'период данных для расчета: {self.period_calculation}')\n",
    "        parms.append(f'период данных для удержания позиции: {self.period_holding}')\n",
    "        return '\\n'.join(parms)\n",
    "    \n",
    "    def is_exists_all_parms(self):\n",
    "        return (self.start_strategy != '' and self.end_strategy != '' and self.period_calculation != '' and self.period_holding != '')\n",
    "        "
   ]
  },
  {
   "cell_type": "markdown",
   "metadata": {},
   "source": [
    "input_parms = InputParms()#### Функции для выполнения команд"
   ]
  },
  {
   "cell_type": "code",
   "execution_count": 6,
   "metadata": {},
   "outputs": [],
   "source": [
    "input_parms = InputParms()"
   ]
  },
  {
   "cell_type": "code",
   "execution_count": 7,
   "metadata": {},
   "outputs": [],
   "source": [
    "def startCmd(message):\n",
    "    bot.send_message(message.from_user.id, \"Привет! Это чат бот инвестиций.\")\n",
    "    analyzeCmd(message)"
   ]
  },
  {
   "cell_type": "code",
   "execution_count": 8,
   "metadata": {},
   "outputs": [],
   "source": [
    "def helpCmd(message):\n",
    "    bot.send_message(message.from_user.id, \"Чем я могу тебе помочь?\")"
   ]
  },
  {
   "cell_type": "code",
   "execution_count": 9,
   "metadata": {},
   "outputs": [],
   "source": [
    "def getParamsCmd(message):\n",
    "    bot.send_message(message.from_user.id, input_parms.get_string())"
   ]
  },
  {
   "cell_type": "code",
   "execution_count": 10,
   "metadata": {},
   "outputs": [],
   "source": [
    "def analyzeCmd(message):\n",
    "    bot.send_message(message.from_user.id, \"Начинаем процесс ввода входных параметров для анализа.\")\n",
    "    bot.send_message(message.from_user.id, \"Дата начала проверки стратегии:\");\n",
    "    bot.register_next_step_handler(message, get_start_strategy)\n",
    "\n",
    "def get_start_strategy(message):\n",
    "    input_parms.set_start_strategy(message.text)\n",
    "    bot.send_message(message.from_user.id, \"Дата окончания проверки стратегии:\");\n",
    "    bot.register_next_step_handler(message, get_end_strategy)\n",
    "\n",
    "def get_end_strategy(message):\n",
    "    input_parms.set_end_strategy(message.text)\n",
    "    bot.send_message(message.from_user.id, \"Период данных для расчета:\");\n",
    "    bot.register_next_step_handler(message, get_period_calculation)\n",
    "    \n",
    "def get_period_calculation(message):\n",
    "    input_parms.set_period_calculation(message.text)\n",
    "    bot.send_message(message.from_user.id, \"Период данных для удержания позиции:\");\n",
    "    bot.register_next_step_handler(message, get_period_holding)\n",
    "    \n",
    "def get_period_holding(message):\n",
    "    input_parms.set_period_holding(message.text)\n",
    "    bot.send_message(message.from_user.id, \"Ввод параметров завершен.\");\n",
    "    \n",
    "    keyboard = types.InlineKeyboardMarkup();\n",
    "    key_yes  = types.InlineKeyboardButton(text='Да', callback_data='yes');\n",
    "    keyboard.add(key_yes);\n",
    "    key_no   = types.InlineKeyboardButton(text='Нет', callback_data='no');\n",
    "    keyboard.add(key_no);\n",
    "    bot.send_message(message.from_user.id, text='Выполнить анализ?', reply_markup=keyboard)\n",
    "    \n",
    "@bot.callback_query_handler(func=lambda call: True)\n",
    "def callback_worker(call):\n",
    "    if call.data == \"yes\": #call.data это callback_data, которая указана при объявлении кнопки\n",
    "        analyze(call.message)\n",
    "    else:\n",
    "        bot.send_message(call.message.chat.id, 'Хорошо, значит в другой раз')"
   ]
  },
  {
   "cell_type": "code",
   "execution_count": 11,
   "metadata": {},
   "outputs": [],
   "source": [
    "def analyze(call_message):\n",
    "    if (not input_parms.is_exists_all_parms()):\n",
    "        bot.send_message(call_message.chat.id, 'Введены не все входные параметры.')\n",
    "        return\n",
    "        \n",
    "    #do something and return plots\n",
    "    \n",
    "    bot.send_message(call_message.chat.id, 'Анализ завершен')"
   ]
  },
  {
   "cell_type": "code",
   "execution_count": 12,
   "metadata": {},
   "outputs": [],
   "source": [
    "botCmds = {\n",
    "    \"/start\": startCmd,\n",
    "    \"/help\": helpCmd,\n",
    "    \"/analyze\": analyzeCmd,\n",
    "    \"/getparams\": getParamsCmd,\n",
    "}"
   ]
  },
  {
   "cell_type": "markdown",
   "metadata": {},
   "source": [
    "Чтобы в боте отобразить список доступных команд (при нажатии на иконку со слешем \"/\"), в BotFather необходимо перечислить эти команды. Для этого необходимо отправить команду /setcommands и список команда в таком формате:"
   ]
  },
  {
   "cell_type": "markdown",
   "metadata": {},
   "source": [
    "start - Начало работы с ботом<br/>\n",
    "help - Помощь<br/>\n",
    "analyze - Выполнение анализа<br/>\n",
    "getparams - Просмотр ранее заданных входных параметров для анализа"
   ]
  },
  {
   "cell_type": "code",
   "execution_count": 13,
   "metadata": {},
   "outputs": [],
   "source": [
    "@bot.message_handler(content_types=['text'])\n",
    "def get_text_messages(message):\n",
    "    if message.text in botCmds:\n",
    "        botCmds[message.text](message)\n",
    "    else:\n",
    "        bot.send_message(message.from_user.id, \"Я тебя не понимаю. Напиши /help.\")"
   ]
  },
  {
   "cell_type": "markdown",
   "metadata": {},
   "source": [
    "Настраиваем бота на постоянный опрос сервера телеграммма, чтобы узнавать, написал ли кто-то в наш бот"
   ]
  },
  {
   "cell_type": "code",
   "execution_count": null,
   "metadata": {},
   "outputs": [],
   "source": [
    "bot.polling(none_stop=True, interval=0)"
   ]
  },
  {
   "cell_type": "markdown",
   "metadata": {},
   "source": [
    "Для локального запуска сервера в консоле необходимо запустить скрипт:<br/>\n",
    "python InvestmentSampleBot.py<br/><br/> \n",
    "\n",
    "Или выполнить весь код в Jupyter Notebook. Ячейка с polling'ом будет выполняться до тех пор, пока среда выполнения не будет вручную остановлена."
   ]
  }
 ],
 "metadata": {
  "kernelspec": {
   "display_name": "Python 3",
   "language": "python",
   "name": "python3"
  },
  "language_info": {
   "codemirror_mode": {
    "name": "ipython",
    "version": 3
   },
   "file_extension": ".py",
   "mimetype": "text/x-python",
   "name": "python",
   "nbconvert_exporter": "python",
   "pygments_lexer": "ipython3",
   "version": "3.8.5"
  }
 },
 "nbformat": 4,
 "nbformat_minor": 4
}
