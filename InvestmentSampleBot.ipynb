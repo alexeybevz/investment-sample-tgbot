{
 "cells": [
  {
   "cell_type": "markdown",
   "metadata": {},
   "source": [
    "# Чат бот инвестиций"
   ]
  },
  {
   "cell_type": "markdown",
   "metadata": {},
   "source": [
    "### Проект выполнили:\n",
    "* Николай Обливальный\n",
    "* Name\n",
    "* Алексей Бевз"
   ]
  },
  {
   "cell_type": "markdown",
   "metadata": {},
   "source": [
    "#### Установка библиотеки для работы с ботом через API телеграмма"
   ]
  },
  {
   "cell_type": "code",
   "execution_count": 9,
   "metadata": {},
   "outputs": [],
   "source": [
    "#pip install pyTelegramBotAPI"
   ]
  },
  {
   "cell_type": "markdown",
   "metadata": {},
   "source": [
    "Телеграмм умеет сообщать боту о действиях пользователя двумя способами: через ответ на запрос сервера (Long Poll), и через Webhook, когда сервер Телеграмма сам присылает сообщение о том, что кто-то написал боту. Второй способ явно выглядит лучше, но требует выделенного IP-адреса, и установленного SSL на сервере. Реализовать его наиболее простым способом можно опубликовав код на heroku."
   ]
  },
  {
   "cell_type": "markdown",
   "metadata": {},
   "source": [
    "В данном проекте используется Long Poll."
   ]
  },
  {
   "cell_type": "markdown",
   "metadata": {},
   "source": [
    "С помощью специального бота \"BotFather\" создали собственного бота и получили токен для работы с API.<br/>\n",
    "UserName: InvestmentSampleBot\n",
    "Название: Чат бот инвестиций"
   ]
  },
  {
   "cell_type": "code",
   "execution_count": 10,
   "metadata": {},
   "outputs": [],
   "source": [
    "import telebot;"
   ]
  },
  {
   "cell_type": "code",
   "execution_count": 11,
   "metadata": {},
   "outputs": [],
   "source": [
    "token = ''"
   ]
  },
  {
   "cell_type": "code",
   "execution_count": 12,
   "metadata": {},
   "outputs": [],
   "source": [
    "bot = telebot.TeleBot(token);"
   ]
  },
  {
   "cell_type": "markdown",
   "metadata": {},
   "source": [
    "#### Функции для выполнения команд"
   ]
  },
  {
   "cell_type": "code",
   "execution_count": 13,
   "metadata": {},
   "outputs": [],
   "source": [
    "def startCmd(fromUserId):\n",
    "    bot.send_message(fromUserId, \"Привет! Это чат бот инвестиций.\")"
   ]
  },
  {
   "cell_type": "code",
   "execution_count": 14,
   "metadata": {},
   "outputs": [],
   "source": [
    "def helpCmd(fromUserId):\n",
    "    bot.send_message(fromUserId, \"Чем я могу тебе помочь?\")"
   ]
  },
  {
   "cell_type": "code",
   "execution_count": 15,
   "metadata": {},
   "outputs": [],
   "source": [
    "def setParamsCmd(fromUserId):\n",
    "    bot.send_message(fromUserId, \"Сейчас начнем процесс ввода входных параметров для анализа.\")"
   ]
  },
  {
   "cell_type": "code",
   "execution_count": 16,
   "metadata": {},
   "outputs": [],
   "source": [
    "botCmds = {\n",
    "    \"/start\": startCmd,\n",
    "    \"/help\": helpCmd,\n",
    "    \"/setparams\": setParamsCmd\n",
    "}"
   ]
  },
  {
   "cell_type": "markdown",
   "metadata": {},
   "source": [
    "Чтобы в боте отобразить список доступных команд (при нажатии на иконку со слешем \"/\"), в BotFather необходимо перечислить эти команды. Для этого необходимо отправить команду /setcommands и список команда в таком формате:"
   ]
  },
  {
   "cell_type": "markdown",
   "metadata": {},
   "source": [
    "start - Начало работы с ботом<br/>\n",
    "help - Помощь<br/>\n",
    "setparams - Запрос входных параметров для анализа"
   ]
  },
  {
   "cell_type": "code",
   "execution_count": 17,
   "metadata": {},
   "outputs": [],
   "source": [
    "@bot.message_handler(content_types=['text'])\n",
    "def get_text_messages(message):\n",
    "    if message.text in botCmds:\n",
    "        botCmds[message.text](message.from_user.id)\n",
    "    else:\n",
    "        bot.send_message(message.from_user.id, \"Я тебя не понимаю. Напиши /help.\")"
   ]
  },
  {
   "cell_type": "markdown",
   "metadata": {},
   "source": [
    "Настраиваем бота на постоянный опрос сервера телеграммма, чтобы узнавать, написал ли кто-то в наш бот"
   ]
  },
  {
   "cell_type": "code",
   "execution_count": null,
   "metadata": {},
   "outputs": [],
   "source": [
    "bot.polling(none_stop=True, interval=0)"
   ]
  },
  {
   "cell_type": "markdown",
   "metadata": {},
   "source": [
    "Для локального запуска сервера в консоле необходимо запустить скрипт:<br/>\n",
    "python InvestmentSampleBot.py<br/><br/> \n",
    "\n",
    "Или выполнить весь код в Jupyter Notebook. Ячейка с polling'ом будет выполняться до тех пор, пока среда выполнения не будет вручную остановлена."
   ]
  }
 ],
 "metadata": {
  "kernelspec": {
   "display_name": "Python 3",
   "language": "python",
   "name": "python3"
  },
  "language_info": {
   "codemirror_mode": {
    "name": "ipython",
    "version": 3
   },
   "file_extension": ".py",
   "mimetype": "text/x-python",
   "name": "python",
   "nbconvert_exporter": "python",
   "pygments_lexer": "ipython3",
   "version": "3.8.5"
  }
 },
 "nbformat": 4,
 "nbformat_minor": 4
}
